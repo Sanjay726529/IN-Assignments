{
 "cells": [
  {
   "cell_type": "markdown",
   "metadata": {},
   "source": [
    "# Stats-1 Assignment\n",
    "---\n"
   ]
  },
  {
   "cell_type": "markdown",
   "metadata": {},
   "source": [
    "**1.1 You survey households in your area to find the average rent they are paying. Find the standard deviation from the following data:**\n",
    "\n",
    "\\\\$1550, \\\\$1700, \\\\$900, \\\\$850, \\\\$1000, \\\\$950."
   ]
  },
  {
   "cell_type": "markdown",
   "metadata": {},
   "source": [
    "* standard deviaton formula\n",
    "\n",
    "![SD](SD.png)\n"
   ]
  },
  {
   "cell_type": "code",
   "execution_count": 1,
   "metadata": {},
   "outputs": [
    {
     "name": "stdout",
     "output_type": "stream",
     "text": [
      "standard deviation of the given data:  335.92740617910624\n"
     ]
    },
    {
     "data": {
      "text/plain": [
       "True"
      ]
     },
     "execution_count": 1,
     "metadata": {},
     "output_type": "execute_result"
    }
   ],
   "source": [
    "import numpy as np\n",
    "\n",
    "avg_rent = np.array([1550, 1700, 900, 850, 1000, 950])\n",
    "\n",
    "# calculate the standard deviation\n",
    "sigma = np.sqrt(np.mean((avg_rent - np.mean(avg_rent))**2))\n",
    "\n",
    "print(\"standard deviation of the given data: \", sigma)\n",
    "# check if calculated SD is equal to numpy std dev implementaion\n",
    "sigma == np.std(avg_rent)"
   ]
  },
  {
   "cell_type": "markdown",
   "metadata": {},
   "source": [
    "**1.2 Find the variance for the following set of data representing trees in California (heights in feet):**\n",
    "\n",
    "3, 21, 98, 203, 17, 9\n",
    "\n",
    "* variance formula:\n",
    "\n",
    "![var](var.png)"
   ]
  },
  {
   "cell_type": "code",
   "execution_count": 4,
   "metadata": {},
   "outputs": [
    {
     "name": "stdout",
     "output_type": "stream",
     "text": [
      "Variance of the given data:  5183.25\n"
     ]
    },
    {
     "data": {
      "text/plain": [
       "True"
      ]
     },
     "execution_count": 4,
     "metadata": {},
     "output_type": "execute_result"
    }
   ],
   "source": [
    "height = np.array([3, 21, 98, 203, 17, 9])\n",
    "\n",
    "# calculate the variance\n",
    "sigma_sqre = np.mean((height - np.mean(height))**2)\n",
    "\n",
    "print(\"Variance of the given data: \", sigma_sqre)\n",
    "\n",
    "# check if calculated variance is equal to numpy variance implementaion\n",
    "sigma_sqre == np.var(height)"
   ]
  },
  {
   "cell_type": "markdown",
   "metadata": {},
   "source": [
    "**1.3 In a class on 100 students, 80 students passed in all subjects, 10 failed in one subject, 7 failed in two subjects and 3 failed in three subjects. Find the probability distribution of the variable for number of subjects a student from the given class has failed in.**"
   ]
  },
  {
   "cell_type": "code",
   "execution_count": 2,
   "metadata": {},
   "outputs": [
    {
     "name": "stdout",
     "output_type": "stream",
     "text": [
      "Probabilty on average number of subjects a given student from class fails:  0.33\n"
     ]
    }
   ],
   "source": [
    "no_fail = 0.8     # 80/100\n",
    "one_fail = 0.1    # 10/100\n",
    "two_fail = 0.07   # 7/100\n",
    "three_fail = 0.03 # 3/100\n",
    "\n",
    "print(\"Probabilty on average number of subjects a given student from class fails: \", (0*no_fail + 1* one_fail + 2 * two_fail + 3 * three_fail))"
   ]
  }
 ],
 "metadata": {
  "kernelspec": {
   "display_name": "Python 3",
   "language": "python",
   "name": "python3"
  },
  "language_info": {
   "codemirror_mode": {
    "name": "ipython",
    "version": 3
   },
   "file_extension": ".py",
   "mimetype": "text/x-python",
   "name": "python",
   "nbconvert_exporter": "python",
   "pygments_lexer": "ipython3",
   "version": "3.7.4"
  }
 },
 "nbformat": 4,
 "nbformat_minor": 4
}
