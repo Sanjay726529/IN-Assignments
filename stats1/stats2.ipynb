{
 "cells": [
  {
   "cell_type": "markdown",
   "metadata": {},
   "source": [
    "# Stat2 - Assignment\n",
    "---"
   ]
  },
  {
   "cell_type": "markdown",
   "metadata": {},
   "source": [
    "**1. A test is conducted which is consisting of 20 MCQs (multiple choices questions) with every MCQ having its four options out of which only one is correct. Determine the probability that a person undertaking that test has answered exactly 5 questions wrong.**"
   ]
  },
  {
   "cell_type": "code",
   "execution_count": 1,
   "metadata": {},
   "outputs": [
    {
     "name": "stdout",
     "output_type": "stream",
     "text": [
      "The probabilty of answering exactly five question wrong out of 20 is 3.4264958230778575e-06\n"
     ]
    }
   ],
   "source": [
    "from itertools import combinations\n",
    "\n",
    "# total questions = 20\n",
    "# probabilty of answering correct: 1/4\n",
    "# probabilty of answering wrong: 3/4\n",
    "\n",
    "# getting exactly 5 wrong means, 15 are correct, hence the probability of getting the last 5 wrong is \n",
    "prob = ((1/4) ** 15) * ((3/4) ** 5)\n",
    "\n",
    "# however, any 5 questions can be wrong. Find the number of combinations on 5 fails\n",
    "\n",
    "comb = len(list(combinations(range(20),5)))\n",
    "\n",
    "print(\"The probabilty of answering exactly five question wrong out of 20 is\", comb * prob)"
   ]
  },
  {
   "cell_type": "markdown",
   "metadata": {},
   "source": [
    "---\n",
    "**2. A die marked A to E is rolled 50 times. Find the probability of getting a “D” exactly 5 times.**"
   ]
  },
  {
   "cell_type": "code",
   "execution_count": 2,
   "metadata": {},
   "outputs": [
    {
     "name": "stdout",
     "output_type": "stream",
     "text": [
      "The probabilty of Die getting exactly five question 'D' out of 50 rolls is 0.029531204310524296\n"
     ]
    }
   ],
   "source": [
    "# probability of getting D: 1/5\n",
    "# probability of not getting D: 4/5\n",
    "# n = 50\n",
    "\n",
    "# probability of getting 45 \"not D\" and 5 \"D\"\n",
    "prob2 = ((4/5) ** 45) * ((1/5) ** 5)\n",
    "\n",
    "# combinations of any 5 getting 'D'\n",
    "comb2 = len(list(combinations(range(50),5)))\n",
    "\n",
    "print(\"The probabilty of Die getting exactly five question 'D' out of 50 rolls is\", comb2 * prob2)"
   ]
  },
  {
   "cell_type": "markdown",
   "metadata": {},
   "source": [
    "---\n",
    "**3. Two balls are drawn at random in succession without replacement from an urn containing 4 red balls and 6 black balls. Find the probabilities of all the possible outcomes.**"
   ]
  },
  {
   "cell_type": "code",
   "execution_count": 6,
   "metadata": {},
   "outputs": [
    {
     "name": "stdout",
     "output_type": "stream",
     "text": [
      "The probability of getting zero black balls:  0.13333333333333333\n",
      "The probability of getting zero red balls:  0.3333333333333333\n",
      "The probability of getting one black ball:  0.5333333333333333\n",
      "The probability of getting one red ball:  0.5333333333333333\n"
     ]
    }
   ],
   "source": [
    "# probabilty of different outcomes i.e\n",
    "black_black = (6/10) * (5/9)\n",
    "red_red = (4/10) * (3/9)\n",
    "black_red = (6/10) * (4/9)\n",
    "red_black = (4/10) * (6/9)\n",
    "\n",
    "print(\"The probability of getting zero black balls: \", red_red)\n",
    "print(\"The probability of getting zero red balls: \", black_black)\n",
    "print(\"The probability of getting one black ball: \", black_red + red_black)\n",
    "print(\"The probability of getting one red ball: \", black_red + red_black)"
   ]
  }
 ],
 "metadata": {
  "kernelspec": {
   "display_name": "Python 3",
   "language": "python",
   "name": "python3"
  },
  "language_info": {
   "codemirror_mode": {
    "name": "ipython",
    "version": 3
   },
   "file_extension": ".py",
   "mimetype": "text/x-python",
   "name": "python",
   "nbconvert_exporter": "python",
   "pygments_lexer": "ipython3",
   "version": "3.7.4"
  }
 },
 "nbformat": 4,
 "nbformat_minor": 4
}
