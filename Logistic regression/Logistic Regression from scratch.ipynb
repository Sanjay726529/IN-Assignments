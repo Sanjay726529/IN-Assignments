{
 "cells": [
  {
   "cell_type": "markdown",
   "metadata": {},
   "source": [
    "# IMPLEMENTATION OF LOGISTIC REGRESSION WITH LOG LOSS AND L2-REGULARISATION\n",
    "---"
   ]
  },
  {
   "cell_type": "code",
   "execution_count": 1,
   "metadata": {},
   "outputs": [],
   "source": [
    "import numpy as np\n",
    "import pandas as pd\n",
    "from sklearn.datasets import make_classification\n",
    "from sklearn.model_selection import train_test_split\n",
    "import math\n",
    "from random import randint, random\n",
    "import matplotlib.pyplot as plt\n",
    "import seaborn as sns\n",
    "from tqdm import tqdm_notebook as tqdm"
   ]
  },
  {
   "cell_type": "markdown",
   "metadata": {},
   "source": [
    "## 1.1 Creating binary classification dataset\n",
    "---"
   ]
  },
  {
   "cell_type": "code",
   "execution_count": 2,
   "metadata": {},
   "outputs": [
    {
     "name": "stdout",
     "output_type": "stream",
     "text": [
      "The size of total data: (50000, 15)\n",
      "The distribution of classes:\n",
      "0 : 34904\n",
      "1 : 15096\n"
     ]
    }
   ],
   "source": [
    "X, Y = make_classification(n_samples=50000, n_features=15, n_informative=10, n_redundant=5,\n",
    "                           n_classes=2, weights=[0.7], class_sep=0.7, random_state=15)\n",
    "print(\"The size of total data:\", X.shape)\n",
    "unique, counts = np.unique(Y, return_counts=True)\n",
    "print(\"The distribution of classes:\")\n",
    "print(unique[0],\":\",counts[0])\n",
    "print(unique[1],\":\",counts[1])"
   ]
  },
  {
   "cell_type": "code",
   "execution_count": 3,
   "metadata": {},
   "outputs": [
    {
     "name": "stdout",
     "output_type": "stream",
     "text": [
      "The size of train data after split: (37500, 15)\n",
      "The size of test data after split: (12500, 15)\n"
     ]
    }
   ],
   "source": [
    "\n",
    "# split the data into train/test\n",
    "x_train, x_test, y_train, y_test = train_test_split(X, Y, test_size=0.25, random_state=12)\n",
    "print(\"The size of train data after split:\", x_train.shape)\n",
    "print(\"The size of test data after split:\", x_test.shape)"
   ]
  },
  {
   "cell_type": "markdown",
   "metadata": {},
   "source": [
    "## 1.2 implementing SGD classifier using sklearn library\n",
    "---"
   ]
  },
  {
   "cell_type": "code",
   "execution_count": 4,
   "metadata": {},
   "outputs": [
    {
     "data": {
      "text/plain": [
       "SGDClassifier(alpha=0.0001, average=False, class_weight=None,\n",
       "              early_stopping=False, epsilon=0.1, eta0=0.0001,\n",
       "              fit_intercept=True, l1_ratio=0.15, learning_rate='constant',\n",
       "              loss='log', max_iter=1000, n_iter_no_change=5, n_jobs=-1,\n",
       "              penalty='l2', power_t=0.5, random_state=15, shuffle=True,\n",
       "              tol=0.001, validation_fraction=0.1, verbose=2, warm_start=False)"
      ]
     },
     "execution_count": 4,
     "metadata": {},
     "output_type": "execute_result"
    }
   ],
   "source": [
    "from sklearn.linear_model import SGDClassifier\n",
    "\n",
    "sk_sgd = SGDClassifier(loss='log', penalty='l2', alpha=0.0001, random_state=15, \\\n",
    "                       eta0=0.0001, tol=1e-3, verbose=2, learning_rate='constant', n_jobs=-1)\n",
    "\n",
    "# SGGCLASSIFIER configuration\n",
    "sk_sgd"
   ]
  },
  {
   "cell_type": "code",
   "execution_count": 5,
   "metadata": {},
   "outputs": [
    {
     "name": "stdout",
     "output_type": "stream",
     "text": [
      "-- Epoch 1\n",
      "Norm: 0.76, NNZs: 15, Bias: -0.316714, T: 37500, Avg. loss: 0.457331\n",
      "Total training time: 0.01 seconds.\n",
      "-- Epoch 2\n",
      "Norm: 0.91, NNZs: 15, Bias: -0.475044, T: 75000, Avg. loss: 0.396597\n",
      "Total training time: 0.03 seconds.\n",
      "-- Epoch 3\n",
      "Norm: 0.97, NNZs: 15, Bias: -0.584279, T: 112500, Avg. loss: 0.387556\n",
      "Total training time: 0.04 seconds.\n",
      "-- Epoch 4\n",
      "Norm: 1.01, NNZs: 15, Bias: -0.660523, T: 150000, Avg. loss: 0.384049\n",
      "Total training time: 0.05 seconds.\n",
      "-- Epoch 5\n",
      "Norm: 1.03, NNZs: 15, Bias: -0.719754, T: 187500, Avg. loss: 0.382411\n",
      "Total training time: 0.06 seconds.\n",
      "-- Epoch 6\n",
      "Norm: 1.04, NNZs: 15, Bias: -0.764148, T: 225000, Avg. loss: 0.381598\n",
      "Total training time: 0.08 seconds.\n",
      "-- Epoch 7\n",
      "Norm: 1.05, NNZs: 15, Bias: -0.798400, T: 262500, Avg. loss: 0.381066\n",
      "Total training time: 0.09 seconds.\n",
      "-- Epoch 8\n",
      "Norm: 1.06, NNZs: 15, Bias: -0.820043, T: 300000, Avg. loss: 0.380855\n",
      "Total training time: 0.11 seconds.\n",
      "-- Epoch 9\n",
      "Norm: 1.06, NNZs: 15, Bias: -0.838181, T: 337500, Avg. loss: 0.380683\n",
      "Total training time: 0.12 seconds.\n",
      "-- Epoch 10\n",
      "Norm: 1.06, NNZs: 15, Bias: -0.854025, T: 375000, Avg. loss: 0.380717\n",
      "Total training time: 0.14 seconds.\n",
      "Convergence after 10 epochs took 0.14 seconds\n"
     ]
    },
    {
     "data": {
      "text/plain": [
       "SGDClassifier(alpha=0.0001, average=False, class_weight=None,\n",
       "              early_stopping=False, epsilon=0.1, eta0=0.0001,\n",
       "              fit_intercept=True, l1_ratio=0.15, learning_rate='constant',\n",
       "              loss='log', max_iter=1000, n_iter_no_change=5, n_jobs=-1,\n",
       "              penalty='l2', power_t=0.5, random_state=15, shuffle=True,\n",
       "              tol=0.001, validation_fraction=0.1, verbose=2, warm_start=False)"
      ]
     },
     "execution_count": 5,
     "metadata": {},
     "output_type": "execute_result"
    }
   ],
   "source": [
    "# start training on train data\n",
    "\n",
    "sk_sgd.fit(x_train, y_train)"
   ]
  },
  {
   "cell_type": "code",
   "execution_count": 6,
   "metadata": {},
   "outputs": [
    {
     "name": "stdout",
     "output_type": "stream",
     "text": [
      "The optimized coef:  [[-0.41857774  0.18297454 -0.14862447  0.33351081 -0.20011022  0.56284478\n",
      "  -0.43937634 -0.08577392  0.2181987   0.17468164  0.18455603  0.00126932\n",
      "  -0.06977052  0.33303106  0.01945716]]\n",
      "The shape of coef:  (1, 15)\n",
      "The optimized intercept:  [-0.85402538]\n"
     ]
    }
   ],
   "source": [
    "# The optimized co-efficients and intercept\n",
    "print(\"The optimized coef: \", sk_sgd.coef_)\n",
    "print(\"The shape of coef: \", sk_sgd.coef_.shape)\n",
    "print(\"The optimized intercept: \", sk_sgd.intercept_)"
   ]
  },
  {
   "cell_type": "markdown",
   "metadata": {},
   "source": [
    "## 1.3 Implementing SGDClassifier with logloss(logistic Regression) without SKlearn"
   ]
  },
  {
   "cell_type": "code",
   "execution_count": 7,
   "metadata": {},
   "outputs": [],
   "source": [
    "class SGDcustom():\n",
    "    \n",
    "    \n",
    "    def __init__(self, alpha, lamda, verbose=False):\n",
    "        self.alpha = alpha\n",
    "        self.lamda = lamda\n",
    "        self.verbose = verbose\n",
    "        print(\"classifier is configured as\")\n",
    "        print(\"learning rate:\", alpha, \"\\neta0: \", lamda)\n",
    "        self._initialize_weight_bias()\n",
    "    \n",
    "    def _initialize_weight_bias(self):\n",
    "        self.coeff = np.zeros((1, x_train.shape[1]))\n",
    "        self.bias = 0.0\n",
    "    \n",
    "    def _sigmoid(self, a):\n",
    "        return np.exp(a) / (np.exp(a) + 1)\n",
    "    \n",
    "    def predict_prob(self, x):\n",
    "        prediction = np.zeros((x.shape[0],1))\n",
    "        for i in range(x.shape[0]):\n",
    "            y_pred = float(np.dot(self.coeff, x[i]) + self.bias)\n",
    "            prediction[i] = self._sigmoid(y_pred)\n",
    "            \n",
    "        return prediction\n",
    "    \n",
    "    def predict(self, x_prob, threhold=0.5):\n",
    "        return self.predict_prob(x_prob) >= threshold\n",
    "    \n",
    "    \n",
    "    def _compute_log_loss(self, y_act, y_pred):\n",
    "\n",
    "        summation = 0\n",
    "        \n",
    "        # compute the summation part as per formula\n",
    "        for actual, pred in zip(y_act, y_pred) :\n",
    "            \n",
    "            #-log P(yt|yp) = -(yt log(yp) + (1 - yt) log(1 - yp))\n",
    "            loss = actual * np.log(pred) + (1-actual) * np.log(1-pred)\n",
    "            summation += loss\n",
    "            \n",
    "        return  -1 * (summation / len(y_act))\n",
    "\n",
    "    def fit(self,x_tr, x_t, y_tr, y_t, n_epoch):\n",
    "        \n",
    "        train_logloss = []\n",
    "        test_logloss = []\n",
    "        \n",
    "        for epoch in tqdm(range(n_epoch)):\n",
    "            \n",
    "            for i in range(len(x_tr)):            \n",
    "                #rand = np.random.randint(0,len(x_tr)-1)\n",
    "                y_p = self._sigmoid(np.dot(self.coeff, x_tr[i]) + self.bias)\n",
    "                \n",
    "                # update the weights\n",
    "                self.coeff = ((1 - (self.alpha * self.lamda)/len(x_tr[i])) * self.coeff) + \\\n",
    "                            (self.alpha * (x_tr[i] * (y_tr[i] - y_p)))\n",
    "                \n",
    "                self.bias += (self.alpha * (y_tr[i] - y_p))\n",
    "            \n",
    "\n",
    "            \n",
    "            # calulate the loss\n",
    "            tr_y_hat = self.predict_prob(x_tr)       \n",
    "            tr_loss = self._compute_log_loss(y_tr, tr_y_hat)\n",
    "            train_logloss.append(tr_loss)\n",
    "\n",
    "            te_y_hat = self.predict_prob(x_t)       \n",
    "            te_loss = self._compute_log_loss(y_t, te_y_hat)\n",
    "            test_logloss.append(te_loss)\n",
    "            \n",
    "    \n",
    "            if self.verbose:\n",
    "                print(\"=\"*50)\n",
    "                print(\"Train Loss, Test Loss\")\n",
    "                print('>_ epoch=%d, loss=%.3f' % (epoch, tr_loss))\n",
    "                print('>_ epoch=%d, loss=%.3f' % (epoch, te_loss))\n",
    "        \n",
    "        return train_logloss, test_logloss\n",
    "    \n",
    "    "
   ]
  },
  {
   "cell_type": "code",
   "execution_count": 8,
   "metadata": {},
   "outputs": [
    {
     "name": "stdout",
     "output_type": "stream",
     "text": [
      "classifier is configured as\n",
      "learning rate: 0.0001 \n",
      "eta0:  0.0001\n"
     ]
    },
    {
     "data": {
      "application/vnd.jupyter.widget-view+json": {
       "model_id": "abfddcb1df294837bdb8d5d1436500b4",
       "version_major": 2,
       "version_minor": 0
      },
      "text/plain": [
       "HBox(children=(IntProgress(value=0, max=10), HTML(value='')))"
      ]
     },
     "metadata": {},
     "output_type": "display_data"
    },
    {
     "name": "stdout",
     "output_type": "stream",
     "text": [
      "\n"
     ]
    }
   ],
   "source": [
    "cus_sgd = SGDcustom(0.0001, 0.0001, False)\n",
    "tloss, testloss = cus_sgd.fit(x_train, x_test, y_train, y_test, 10)"
   ]
  },
  {
   "cell_type": "code",
   "execution_count": 9,
   "metadata": {},
   "outputs": [
    {
     "data": {
      "image/png": "[encoded data removed]",
      "text/plain": [
       "<Figure size 432x288 with 1 Axes>"
      ]
     },
     "metadata": {
      "needs_background": "light"
     },
     "output_type": "display_data"
    }
   ],
   "source": [
    "plt.plot(range(len(tloss)), tloss, color='b', label='train_loss')\n",
    "plt.plot(range(len(tloss)), testloss, color='orange', label=\"test_loss\")\n",
    "plt.xlabel(\"Epoch\")\n",
    "plt.ylabel(\"logloss\")\n",
    "plt.title(\"Logloss over different epochs\")\n",
    "plt.legend()\n",
    "plt.show()"
   ]
  },
  {
   "cell_type": "code",
   "execution_count": 12,
   "metadata": {},
   "outputs": [
    {
     "data": {
      "text/plain": [
       "array([[-5.41488031e-06,  2.06581761e-03,  2.05727643e-03,\n",
       "         9.27775823e-04, -1.41673858e-02, -1.10430769e-03,\n",
       "         2.42166207e-03, -5.40167097e-03, -6.14714684e-03,\n",
       "        -1.13032086e-03,  1.18357330e-02, -2.85038009e-03,\n",
       "        -4.51101510e-03, -2.71027313e-03,  5.43330815e-03]])"
      ]
     },
     "execution_count": 12,
     "metadata": {},
     "output_type": "execute_result"
    }
   ],
   "source": [
    "cus_sgd.coeff - sk_sgd.coef_"
   ]
  },
  {
   "cell_type": "code",
   "execution_count": 11,
   "metadata": {},
   "outputs": [
    {
     "data": {
      "text/plain": [
       "(9,)"
      ]
     },
     "execution_count": 11,
     "metadata": {},
     "output_type": "execute_result"
    }
   ],
   "source": [
    "np.argmin(tloss),"
   ]
  }
 ],
 "metadata": {
  "kernelspec": {
   "display_name": "Python 3",
   "language": "python",
   "name": "python3"
  },
  "language_info": {
   "codemirror_mode": {
    "name": "ipython",
    "version": 3
   },
   "file_extension": ".py",
   "mimetype": "text/x-python",
   "name": "python",
   "nbconvert_exporter": "python",
   "pygments_lexer": "ipython3",
   "version": "3.7.4"
  }
 },
 "nbformat": 4,
 "nbformat_minor": 4
}
