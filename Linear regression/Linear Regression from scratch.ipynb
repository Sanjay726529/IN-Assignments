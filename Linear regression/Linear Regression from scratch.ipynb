{
 "cells": [
  {
   "cell_type": "markdown",
   "metadata": {},
   "source": [
    "## Linear regression Algorithm and its implementation using gradient Descent\n",
    "---"
   ]
  },
  {
   "cell_type": "markdown",
   "metadata": {},
   "source": [
    "**1.1 Linear regression Algorithm**"
   ]
  },
  {
   "cell_type": "markdown",
   "metadata": {},
   "source": [
    "**The basic idea behind the Linear regression model is to find the relationship between independent variables and a continuous targer variable(dependent)**\n",
    "\n",
    "* *Linear regression is the most basic machine learning algorithm widely used.*\n",
    "* *LR can be used to forecast sales of a company using previous sales records.*\n",
    "* *If there is single independent varibale, the modelling of such data is known as Univariate Linear Regression otherwise Muliple Linear regression*\n",
    "* ***The main idea behind LR is to find the best line that fits the given dataset with minimal error as shown below***\n",
    "\n",
    "![LR](LR1.png)\n",
    "\n"
   ]
  },
  {
   "cell_type": "markdown",
   "metadata": {},
   "source": [
    "---\n",
    "**1.2 Math behind the Linear regression**"
   ]
  },
  {
   "cell_type": "markdown",
   "metadata": {},
   "source": [
    "**Linear regression model can also be written as:**\n",
    "\n",
    "$Y = \\theta_{0} + \\theta_{1}x_{1} + \\theta_{2}x_{2} + \\cdots + \\theta_{n}x_{n}$ \n",
    "\n",
    "where,\n",
    "* Y = target output\n",
    "* $\\theta_{0}$ = bias or y-intercept of a line\n",
    "* $\\theta_{1} \\cdots \\theta_{n}$ = parameters of slope line or model parameters\n",
    "* $x_{1} \\cdots x_{n}$ = independent features values\n",
    "\n",
    "or \n",
    "\n",
    "$\\sum_{i = 1}^{n} (\\theta_{i}x_{i} + \\theta_{0})$"
   ]
  },
  {
   "cell_type": "markdown",
   "metadata": {},
   "source": [
    "---\n",
    "**1.3 Create a dataset**"
   ]
  },
  {
   "cell_type": "code",
   "execution_count": 1,
   "metadata": {},
   "outputs": [
    {
     "data": {
      "image/png": "[encoded data removed]",
      "text/plain": [
       "<Figure size 576x504 with 1 Axes>"
      ]
     },
     "metadata": {
      "needs_background": "light"
     },
     "output_type": "display_data"
    }
   ],
   "source": [
    "import numpy as np\n",
    "import matplotlib.pyplot as plt\n",
    "%matplotlib inline\n",
    "\n",
    "np.random.seed(0)\n",
    "\n",
    "# 100 datapoints of single feature\n",
    "x = np.random.rand(100, 1)\n",
    "y = 2 + 3 * x + np.random.rand(100, 1)\n",
    "\n",
    "# plot\n",
    "plt.figure(figsize=(8,7))\n",
    "plt.scatter(x,y,s=10)\n",
    "plt.xlabel('x')\n",
    "plt.ylabel('y')\n",
    "plt.show()"
   ]
  },
  {
   "cell_type": "markdown",
   "metadata": {},
   "source": [
    "* **Now, with linear regression modelling, a line equation has to be found that best fits the above data**"
   ]
  },
  {
   "cell_type": "markdown",
   "metadata": {},
   "source": [
    "---\n",
    "**1.4 how to find the best line?**"
   ]
  },
  {
   "cell_type": "markdown",
   "metadata": {},
   "source": [
    "* A logical way is to fit the line manually that intersects through most data points\n",
    "\n",
    "* But the mathematical way is can be done as shown below\n",
    "\n",
    "![LR2](LR2.png)\n"
   ]
  },
  {
   "cell_type": "markdown",
   "metadata": {},
   "source": [
    "* In the above figure, the line which has minimal error between the predicted value and the data values is known as **regression line** or best fit line\n",
    "\n",
    "* The error or the distance between the data value and predicted value is known as residual.\n",
    "\n",
    "* Mathematically the sum of all residuals should be minimum, defining the best fit line\n",
    "\n",
    "To keep the error minimal, following cost function is defined, which should be minimized\n",
    "\n",
    "![cost](cost.png)\n",
    "\n",
    "***Note: Why do we take the square of the residuals and not the absolute value of the residuals ? We want to penalize the points which are farther from the regression line much more than the points which lie close to the line***"
   ]
  },
  {
   "cell_type": "markdown",
   "metadata": {},
   "source": [
    "---\n",
    "**1.5 Minimizing the cost function using Gradient Descent**"
   ]
  },
  {
   "cell_type": "markdown",
   "metadata": {},
   "source": [
    "* The gradient descent is generic algorithm which takes a cost funtion and tries to minimizes it by updating the model(LR) parameters until convergence\n",
    "\n",
    "* psuedocode:\n",
    "    - initialize the $\\theta$ and bias randomly or to zeros\n",
    "    - calculate the cost using the with current model parameters (cost function)\n",
    "    - update the model parameters as shown below\n",
    "    - recalculate the cost.\n",
    "    \n",
    " repeat this until the loss is minimum or increasing from previous"
   ]
  },
  {
   "cell_type": "markdown",
   "metadata": {},
   "source": [
    "**updating the model parameters**\n",
    "\n",
    "The parameters are updated by first taking the partial derivative of cost function\n",
    "\n",
    "* *partial derivative of bias*\n",
    "\n",
    "![derv](derivatives2.png)\n",
    "\n",
    "* *partial derivative of slope*\n",
    "\n",
    "![derv2](derivatives1.png)\n",
    "\n",
    "* *updating the model parameter*\n",
    "\n",
    "![update](param_update.png)\n",
    "\n",
    "**Alpha is a learning parameter, which is used in updating the model parameters iteratively. Alpha here is a hyperparameter and should be choosen wisely**\n",
    "\n",
    "* *Convergence*\n",
    "\n",
    "![conv](covergence.png)\n"
   ]
  },
  {
   "cell_type": "markdown",
   "metadata": {},
   "source": [
    "---\n",
    "**1.5 Implementing Linear regression from scratch**"
   ]
  },
  {
   "cell_type": "code",
   "execution_count": 2,
   "metadata": {},
   "outputs": [],
   "source": [
    "from tqdm import tqdm \n",
    "\n",
    "class LinearRegressionGD():\n",
    "    \n",
    "    def __init__(self, alpha, verbose=False):\n",
    "        self.alpha = alpha\n",
    "        self.verbose = verbose\n",
    "        print(\"classifier is configured as\")\n",
    "        print(\"learning rate:\", alpha)\n",
    "    \n",
    "    def predict(self, x):\n",
    "        return np.dot(x, self.coeff) + self.bias\n",
    "    \n",
    "    def _compute_loss(self, y_act, y_pred):\n",
    "        residuals = y_pred - y_act\n",
    "        cost = np.mean((residuals ** 2))\n",
    "        return cost\n",
    "        \n",
    "\n",
    "    def fit(self, x, y, n_epoch):\n",
    "        \n",
    "        self.coeff = np.zeros((1, x.shape[1]))\n",
    "        n = x.shape[0]\n",
    "        self.bias = 0.0\n",
    "        \n",
    "        self.cost_loss = []\n",
    "        \n",
    "        for epoch in tqdm(range(n_epoch)):\n",
    "\n",
    "            y_p = self.predict(x)\n",
    "            \n",
    "            # calulate the loss\n",
    "            self.cost_loss.append(self._compute_loss(y, y_p))\n",
    "            \n",
    "            # update the weights\n",
    "            deriv_coeff = -2 * np.mean(x * (y - y_p))\n",
    "            deriv_bias = -2 * np.mean(y - y_p)\n",
    "            \n",
    "            self.coeff -= (self.alpha) * deriv_coeff\n",
    "            self.bias -= (self.alpha * deriv_bias)\n",
    "        \n",
    "    \n",
    "            if self.verbose:\n",
    "                print(\"=\"*50)\n",
    "                print(\"Train Loss, Test Loss\")\n",
    "                print('>_ epoch=%d, loss=%.3f' % (epoch, self.cost_loss[epoch]))\n",
    "                "
   ]
  },
  {
   "cell_type": "code",
   "execution_count": 12,
   "metadata": {},
   "outputs": [
    {
     "name": "stdout",
     "output_type": "stream",
     "text": [
      "classifier is configured as\n",
      "learning rate: 0.05\n"
     ]
    },
    {
     "name": "stderr",
     "output_type": "stream",
     "text": [
      "100%|███████████████████████████████████████████████████████████████████████████| 1000/1000 [00:00<00:00, 19660.28it/s]\n"
     ]
    },
    {
     "name": "stdout",
     "output_type": "stream",
     "text": [
      "coefficients:  [2.93498872] \n",
      "y_intercept:  2.5588717760554203\n"
     ]
    }
   ],
   "source": [
    "lr = LinearRegressionGD(alpha=0.05)\n",
    "lr.fit(x,y, 1000)\n",
    "\n",
    "print(\"coefficients: \", *lr.coeff, \"\\ny_intercept: \", lr.bias)"
   ]
  },
  {
   "cell_type": "code",
   "execution_count": 4,
   "metadata": {},
   "outputs": [
    {
     "data": {
      "image/png": "[encoded data removed]",
      "text/plain": [
       "<Figure size 576x576 with 1 Axes>"
      ]
     },
     "metadata": {
      "needs_background": "light"
     },
     "output_type": "display_data"
    },
    {
     "data": {
      "image/png": "[encoded data removed]",
      "text/plain": [
       "<Figure size 720x288 with 1 Axes>"
      ]
     },
     "metadata": {
      "needs_background": "light"
     },
     "output_type": "display_data"
    }
   ],
   "source": [
    "y_pred = lr.predict(x)\n",
    "\n",
    "plt.figure(figsize=(8,8))\n",
    "plt.scatter(x, y) \n",
    "plt.plot([min(x), max(x)], [min(y_pred), max(y_pred)], color='red')  # regression line\n",
    "plt.xlabel('x')\n",
    "plt.ylabel('y')\n",
    "plt.title(\"Best fit line for the dataset\")\n",
    "plt.show()\n",
    "\n",
    "plt.figure(figsize=(10,4))\n",
    "plt.plot(range(len(lr.cost_loss)), lr.cost_loss)\n",
    "plt.xlabel('epoch')\n",
    "plt.ylabel('loss')\n",
    "plt.title(\"Error loss space\")\n",
    "plt.show()\n"
   ]
  },
  {
   "cell_type": "markdown",
   "metadata": {},
   "source": [
    "---\n",
    "**1.6 Evaluating the model**"
   ]
  },
  {
   "cell_type": "markdown",
   "metadata": {},
   "source": [
    "* RMSE(root mean square error) and $R^{2}$ metrics can be used to evaluate the model\n",
    "\n",
    "**RMSE formula:**\n",
    "\n",
    "![rmse](rmse.png)"
   ]
  },
  {
   "cell_type": "code",
   "execution_count": 5,
   "metadata": {},
   "outputs": [
    {
     "name": "stdout",
     "output_type": "stream",
     "text": [
      "RMSE score is:  0.27610405924059644\n"
     ]
    }
   ],
   "source": [
    "# rmse = sum((y_pred - y)**2)/len(y_pred)\n",
    "\n",
    "# mean squared error\n",
    "mse = np.sum((y_pred - y)**2)\n",
    "\n",
    "# root mean squared error\n",
    "# m is the number of training examples\n",
    "rmse = np.sqrt(mse/len(y))\n",
    "\n",
    "print(\"RMSE score is: \", rmse)"
   ]
  },
  {
   "cell_type": "markdown",
   "metadata": {},
   "source": [
    "**$R^{2}$ Score formula:**\n",
    "![r2](r2.png)"
   ]
  },
  {
   "cell_type": "code",
   "execution_count": 6,
   "metadata": {},
   "outputs": [
    {
     "name": "stdout",
     "output_type": "stream",
     "text": [
      "R2 score:  0.9038652974674343\n",
      "We reduced the prediction error by ~90.39% by using regression.\n"
     ]
    }
   ],
   "source": [
    "# sum of square of residuals\n",
    "ssr = np.sum((y_pred - y)**2)\n",
    "\n",
    "#  total sum of squares\n",
    "sst = np.sum((y - np.mean(y))**2)\n",
    "\n",
    "# R2 score\n",
    "r2_score = 1 - (ssr/sst)\n",
    "\n",
    "print(\"R2 score: \", r2_score)\n",
    "print(f\"We reduced the prediction error by ~{r2_score*100:.2f}% by using regression.\")"
   ]
  },
  {
   "cell_type": "markdown",
   "metadata": {},
   "source": [
    "---\n",
    "**1.7: Verifying with Scikit learn implementation**"
   ]
  },
  {
   "cell_type": "code",
   "execution_count": 13,
   "metadata": {},
   "outputs": [
    {
     "name": "stdout",
     "output_type": "stream",
     "text": [
      "Slope: [[2.93655106]]\n",
      "Intercept: [2.55808002]\n",
      "Root mean squared error:  0.07623324582875009\n",
      "R2 score:  0.9038655568672764\n"
     ]
    }
   ],
   "source": [
    "import numpy as np\n",
    "import matplotlib.pyplot as plt\n",
    "from sklearn.linear_model import LinearRegression\n",
    "from sklearn.metrics import mean_squared_error, r2_score\n",
    "\n",
    "\n",
    "regression_model = LinearRegression()\n",
    "\n",
    "# Fit the data(train the model)\n",
    "regression_model.fit(x, y)\n",
    "# Predict\n",
    "y_predicted = regression_model.predict(x)\n",
    "\n",
    "# model evaluation\n",
    "rmse = mean_squared_error(y, y_predicted)\n",
    "r2 = r2_score(y, y_predicted)\n",
    "\n",
    "# printing values\n",
    "print('Slope:' ,regression_model.coef_)\n",
    "print('Intercept:', regression_model.intercept_)\n",
    "print('Root mean squared error: ', rmse)\n",
    "print('R2 score: ', r2)"
   ]
  },
  {
   "cell_type": "markdown",
   "metadata": {},
   "source": [
    "---\n",
    "**1.8: Conclusion**"
   ]
  },
  {
   "cell_type": "markdown",
   "metadata": {},
   "source": [
    "* The scikit learn implementation and from scratch implementation match almost perfectly.\n",
    "* The linear regression is best if the dataset is linear in nature."
   ]
  }
 ],
 "metadata": {
  "kernelspec": {
   "display_name": "Python 3",
   "language": "python",
   "name": "python3"
  },
  "language_info": {
   "codemirror_mode": {
    "name": "ipython",
    "version": 3
   },
   "file_extension": ".py",
   "mimetype": "text/x-python",
   "name": "python",
   "nbconvert_exporter": "python",
   "pygments_lexer": "ipython3",
   "version": "3.7.4"
  }
 },
 "nbformat": 4,
 "nbformat_minor": 4
}
