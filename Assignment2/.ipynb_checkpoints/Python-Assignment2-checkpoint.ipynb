{
 "cells": [
  {
   "cell_type": "markdown",
   "metadata": {},
   "source": [
    "# Assignmet 2\n",
    "---\n",
    "\n",
    "\n",
    "### Task-1"
   ]
  },
  {
   "cell_type": "markdown",
   "metadata": {},
   "source": [
    "**1.1 Write a Python Program to implement your own myreduce() function which works exactly like Python's built-in function reduce()**"
   ]
  },
  {
   "cell_type": "code",
   "execution_count": 3,
   "metadata": {},
   "outputs": [
    {
     "name": "stdout",
     "output_type": "stream",
     "text": [
      "Check 1\n",
      "output of myreduce():  45\n",
      "Output of builtin reduce:  45\n",
      "\n",
      "Check 2\n",
      "output of myreduce():  -45\n",
      "Output of builtin reduce:  -45\n",
      "\n",
      "Check 3\n",
      "Output of myreduce():  9\n",
      "Output of builtin reduce:  9\n"
     ]
    }
   ],
   "source": [
    "import types\n",
    "from functools import reduce\n",
    "from collections import Sequence\n",
    "\n",
    "def myreduce(function, iterable=[]):\n",
    "    if isinstance(function, types.FunctionType) and isinstance(iterable, Sequence):\n",
    "        result = function(iterable[0], iterable[1])\n",
    "        for i in range(2,len(iterable)):\n",
    "            result = function(result,iterable[i])\n",
    "        return result\n",
    "    else:\n",
    "        raise TypeError(f\"wrong arguments is passed, Expected myreduce(function, sequennce), got ({type(function)},{type(iterable)}\")\n",
    "\n",
    "a = range(10)\n",
    "\n",
    "print(\"Check 1\")\n",
    "\n",
    "print(\"output of myreduce(): \", myreduce(lambda x,y : x+y, a))\n",
    "print(\"Output of builtin reduce: \", reduce(lambda x,y : x+y, a))\n",
    "\n",
    "print(\"\\nCheck 2\")\n",
    "print(\"output of myreduce(): \", myreduce(lambda x,y : x-y, a))\n",
    "print(\"Output of builtin reduce: \", reduce(lambda x,y : x-y, a))\n",
    "\n",
    "print(\"\\nCheck 3\")\n",
    "print(\"Output of myreduce(): \", myreduce(lambda x,y : x if x > y else y, a))\n",
    "print(\"Output of builtin reduce: \", reduce(lambda x,y : x if x > y else y, a))"
   ]
  },
  {
   "cell_type": "markdown",
   "metadata": {},
   "source": [
    "**1.2 Write a Python program to implement your own myfilter() function which works exactly like Python's built-in function filter()**"
   ]
  },
  {
   "cell_type": "code",
   "execution_count": 4,
   "metadata": {},
   "outputs": [
    {
     "name": "stdout",
     "output_type": "stream",
     "text": [
      "Check 1\n",
      "output of myfilter():  [2, 4, 6, 8]\n",
      "Output of builtin filter:  [2, 4, 6, 8]\n",
      "\n",
      "Check 2\n",
      "output of myfilter():  [1, 3, 5, 7, 9]\n",
      "Output of builtin filter:  [1, 3, 5, 7, 9]\n",
      "\n",
      "Check 3\n",
      "Count of vowels in b using myfilter():  19\n",
      "Count of vowels in b using builtin filter:  19\n"
     ]
    }
   ],
   "source": [
    "import types\n",
    "from collections import Sequence\n",
    "\n",
    "def myfilter(function, iterable=[]):\n",
    "    if isinstance(function, types.FunctionType) and isinstance(iterable, Sequence):\n",
    "        return [i for i in iterable if function(i)]\n",
    "    else:\n",
    "        raise TypeError(f\"wrong arguments is passed, Expected myreduce(function, sequennce), got ({type(function)},{type(iterable)}\")\n",
    "\n",
    "a = range(1,10)\n",
    "\n",
    "print(\"Check 1\")\n",
    "print(\"output of myfilter(): \", myfilter(lambda x : x%2==0, a))\n",
    "print(\"Output of builtin filter: \", list(filter(lambda x : x%2==0, a)))\n",
    "\n",
    "print(\"\\nCheck 2\")\n",
    "print(\"output of myfilter(): \", myfilter(lambda x : x%2!=0, a))\n",
    "print(\"Output of builtin filter: \", list(filter(lambda x : x%2!=0, a)))\n",
    "\n",
    "b = \"Hello World! This function implements the built-in filter function\"\n",
    "print(\"\\nCheck 3\")\n",
    "print(\"Count of vowels in b using myfilter(): \", len(myfilter(lambda x: x in 'aeiou', b)))\n",
    "print(\"Count of vowels in b using builtin filter: \", len(list(filter(lambda x : x in 'aeiou', b))))"
   ]
  },
  {
   "cell_type": "markdown",
   "metadata": {},
   "source": [
    "**2. Write List comprehensions to produce the following Lists**\n",
    "\n",
    "* ['A', 'C', 'A', 'D', 'G', 'I', ’L’, ‘ D’]\n",
    "* ['x', 'xx', 'xxx', 'xxxx', 'y', 'yy', 'yyy', 'yyyy', 'z', 'zz', 'zzz', 'zzzz']\n",
    "* ['x', 'y', 'z', 'xx', 'yy', 'zz', 'xx', 'yy', 'zz', 'xxxx', 'yyyy', 'zzzz']\n",
    "* [[2], [3], [4], [3], [4], [5], [4], [5], [6]]\n",
    "* [[2, 3, 4, 5], [3, 4, 5, 6], [4, 5, 6, 7], [5, 6, 7, 8]]\n",
    "* [(1, 1), (2, 1), (3, 1), (1, 2), (2, 2), (3, 2), (1, 3), (2, 3), (3, 3)]"
   ]
  },
  {
   "cell_type": "code",
   "execution_count": 5,
   "metadata": {},
   "outputs": [
    {
     "name": "stdout",
     "output_type": "stream",
     "text": [
      "1. ['A', 'C', 'A', 'D', 'G', 'I', 'L', 'D']\n",
      "2. ['x', 'xx', 'xxx', 'xxxx', 'y', 'yy', 'yyy', 'yyyy', 'z', 'zz', 'zzz', 'zzzz']\n",
      "3. ['x', 'y', 'z', 'xx', 'yy', 'zz', 'xx', 'yy', 'zz', 'xxxx', 'yyyy', 'zzzz']\n",
      "4. [[2], [3], [4], [3], [4], [5], [4], [5], [6]]\n",
      "5. [[2, 3, 4, 5], [3, 4, 5, 6], [4, 5, 6, 7], [5, 6, 7, 8]]\n",
      "5. [(1, 1), (2, 1), (3, 1), (1, 2), (2, 2), (3, 2), (1, 3), (2, 3), (3, 3)]\n"
     ]
    }
   ],
   "source": [
    "#1\n",
    "print('1.', [char for char in 'ACADGILD'])\n",
    "\n",
    "#2 \n",
    "print('2.', [i*char for char in 'xyz' for i in range(1,5)])\n",
    "\n",
    "#3\n",
    "print('3.', [i*char for i in (1,2,2,4) for char in 'xyz' ]) # not working\n",
    "\n",
    "#4\n",
    "print('4.', [[j+i] for i in range(3) for j in range(2,5)])\n",
    "\n",
    "#5\n",
    "print('5.', [[j+i for i in range(4)] for j in range(2,6)])\n",
    "\n",
    "#5\n",
    "print('5.', [(j,i) for i in range(1,4) for j in range(1,4)])\n"
   ]
  },
  {
   "cell_type": "markdown",
   "metadata": {},
   "source": [
    "**3. Implement a function longestWord() that takes a list of words and returns the longest one.**"
   ]
  },
  {
   "cell_type": "code",
   "execution_count": 6,
   "metadata": {},
   "outputs": [
    {
     "name": "stdout",
     "output_type": "stream",
     "text": [
      "Longest word in Sentence 1:  typesetting\n",
      "Longest word in Sentence 2:  populariseded\n"
     ]
    }
   ],
   "source": [
    "def longest_word(tokens=list()):\n",
    "    #return tokens[max([(index,len(i)) for index,i in enumerate(tokens)], key=lambda x: x[1])[0]]\n",
    "    long = max([(index,len(i)) for index,i in enumerate(tokens)], key=lambda x: x[1])\n",
    "    return tokens[long[0]]\n",
    "\n",
    "\n",
    "sentence1 = \"\"\"Lorem Ipsum is simply dummy text of the printing and typesetting industry. \\\n",
    "Lorem Ipsum has been the industry's standard dummy text ever since the 1500s, when an unknown \\\n",
    "printer took a galley of type and scrambled it to make a type specimen book.\"\"\"\n",
    "\n",
    "sentence2 = \"\"\"It has survived not only five centuries, but also the leap into electronic \\\n",
    "typesetting, remaining essentially unchanged. It was populariseded in the 1960s with the release\\\n",
    "of Letraset sheets containing Lorem Ipsum passages, and more recently with desktop publishing \\\n",
    "software like Aldus PageMaker including versions of Lorem Ipsum\"\"\"\n",
    "\n",
    "print(\"Longest word in Sentence 1: \", longest_word(sentence1.split()))\n",
    "print(\"Longest word in Sentence 2: \", longest_word(sentence2.split()))"
   ]
  },
  {
   "cell_type": "markdown",
   "metadata": {},
   "source": [
    "### Task-2\n",
    "\n",
    "**2.1 Write a Python Program(with class concepts) to find the area of the triangle using the below formula. area = (s*(s-a)*(s-b)*(s-c)) ** 0.5 Function to take the length of the sides of triangle from user should be defined in the parent class and function to calculate the area should be defined in subclass**"
   ]
  },
  {
   "cell_type": "code",
   "execution_count": 7,
   "metadata": {},
   "outputs": [
    {
     "name": "stdin",
     "output_type": "stream",
     "text": [
      "Enter the measure of Side a 5\n",
      "Enter the measure of Side b 6\n",
      "Enter the measure of Side c 7\n"
     ]
    },
    {
     "name": "stdout",
     "output_type": "stream",
     "text": [
      "Area of triangle using Heron's formula: 14.70\n"
     ]
    }
   ],
   "source": [
    "class Triangle():\n",
    "    \n",
    "    def userinput(self):\n",
    "        self.a = int(input(\"Enter the measure of Side a\").strip())\n",
    "        self.b = int(input(\"Enter the measure of Side b\").strip())\n",
    "        self.c = int(input(\"Enter the measure of Side c\").strip())\n",
    "        self.s = (self.a+self.b+self.c)/2\n",
    "    \n",
    "class AreaOfTriangle(Triangle):\n",
    "    \n",
    "    def calculate(self):\n",
    "        return (self.s*(self.s-self.a)*(self.s-self.b)*(self.s-self.c))**0.5\n",
    "\n",
    "# create an object of Trianlge class\n",
    "r_triangle = AreaOfTriangle()\n",
    "\n",
    "# collect the length of sides\n",
    "r_triangle.userinput()\n",
    "\n",
    "# Calulate the area of triangle using Heron's formula\n",
    "print(\"Area of triangle using Heron's formula: {:.02f}\".format(r_triangle.calculate()))"
   ]
  },
  {
   "cell_type": "markdown",
   "metadata": {},
   "source": [
    "**2.2 Write a function filter_long_words() that takes a list of words and an integer n and returns the list of words that are longer than n.**"
   ]
  },
  {
   "cell_type": "code",
   "execution_count": 8,
   "metadata": {},
   "outputs": [
    {
     "name": "stdout",
     "output_type": "stream",
     "text": [
      "['typesetting', 'industry.Lorem', \"industry's\", 'scrambled', 'centuries,', 'electronic', 'typesetting,remaining', 'essentially', 'unchanged.', 'popularised', 'containing', 'passages,', 'publishing', 'PageMaker', 'including']\n"
     ]
    }
   ],
   "source": [
    "def filter_long_words(words, threshold):\n",
    "    return [word for word in words if len(word) > threshold]\n",
    "\n",
    "sentence = \"Lorem Ipsum is simply dummy text of the printing and typesetting industry.\\\n",
    "Lorem Ipsum has been the industry's standard dummy text ever since the 1500s, when an \\\n",
    "unknown printer took a galley of type and scrambled it to make a type specimen book. \\\n",
    "It has survived not only five centuries, but also the leap into electronic typesetting,\\\n",
    "remaining essentially unchanged. It was popularised in the 1960s with the release of \\\n",
    "Letraset sheets containing Lorem Ipsum passages, and more recently with desktop publishing \\\n",
    "software like Aldus PageMaker including versions of Lorem Ipsum.\"\n",
    "t = 8\n",
    "\n",
    "print(filter_long_words(sentence.split(), t))"
   ]
  },
  {
   "cell_type": "markdown",
   "metadata": {},
   "source": [
    "**2.3 Write a Python program using function concept that maps list of words into a list of integers representing the lengths of the corresponding words. Hint: If a list [ ab,cde,erty] is passed on to the python function output should come as [2,3,4] Here 2,3 and 4 are the lengths of the words in the list.**"
   ]
  },
  {
   "cell_type": "code",
   "execution_count": 9,
   "metadata": {},
   "outputs": [
    {
     "name": "stdin",
     "output_type": "stream",
     "text": [
      "Type in a sentence to count the word length of each words:  Lorem Ipsum is simply dummy text of the printing and typesetting industry. Lorem Ipsum has been the industry's standard dummy text ever since the 1500s\n"
     ]
    },
    {
     "name": "stdout",
     "output_type": "stream",
     "text": [
      "\n",
      "Length of each words in the sentence:  [5, 5, 2, 6, 5, 4, 2, 3, 8, 3, 11, 9, 5, 5, 3, 4, 3, 10, 8, 5, 4, 4, 5, 3, 5]\n"
     ]
    }
   ],
   "source": [
    "def word_length_count(word_list):\n",
    "    return [len(word) for word in word_list]\n",
    "\n",
    "user_sentence = input(\"Type in a sentence to count the word length of each words: \").split()\n",
    "print()\n",
    "print(\"Length of each words in the sentence: \",word_length_count(user_sentence))"
   ]
  },
  {
   "cell_type": "markdown",
   "metadata": {},
   "source": [
    "**2.4 Write a Python function which takes a character (i.e. a string of length 1) and returns True if it is a vowel, False otherwise.**"
   ]
  },
  {
   "cell_type": "code",
   "execution_count": 10,
   "metadata": {},
   "outputs": [
    {
     "name": "stdout",
     "output_type": "stream",
     "text": [
      "True\n"
     ]
    }
   ],
   "source": [
    "def vowel_check(char):\n",
    "    return True if char in 'aeiou' else False\n",
    "\n",
    "print(vowel_check('e'))"
   ]
  }
 ],
 "metadata": {
  "kernelspec": {
   "display_name": "Python 3",
   "language": "python",
   "name": "python3"
  },
  "language_info": {
   "codemirror_mode": {
    "name": "ipython",
    "version": 3
   },
   "file_extension": ".py",
   "mimetype": "text/x-python",
   "name": "python",
   "nbconvert_exporter": "python",
   "pygments_lexer": "ipython3",
   "version": "3.7.4"
  }
 },
 "nbformat": 4,
 "nbformat_minor": 4
}
