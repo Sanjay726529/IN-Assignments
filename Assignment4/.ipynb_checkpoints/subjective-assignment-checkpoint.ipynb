{
 "cells": [
  {
   "cell_type": "markdown",
   "metadata": {},
   "source": [
    "# Subjective Assignment 1\n",
    "---"
   ]
  },
  {
   "cell_type": "markdown",
   "metadata": {},
   "source": [
    "**Q1. Write a Python program to get the string from the given string where all the occurrence of its first char has been changed to '$,' except first char itself?**\n",
    "\n",
    "        Sample String: 'prospect'\n",
    "        Expected Result : 'pros$ect'"
   ]
  },
  {
   "cell_type": "code",
   "execution_count": 2,
   "metadata": {},
   "outputs": [
    {
     "name": "stdin",
     "output_type": "stream",
     "text": [
      "Enter a string Rerepeating\n"
     ]
    },
    {
     "name": "stdout",
     "output_type": "stream",
     "text": [
      "re$epeating\n"
     ]
    }
   ],
   "source": [
    "# read an input from the user:\n",
    "userinput = input(\"Enter a string\").strip().lower()\n",
    "\n",
    "#print(userinput[::-1].replace(userinput[0],'$', userinput.count(userinput[0])-1)[::-1])\n",
    "\n",
    "# replace the first charater by $ from the right side with total count of first char-1\n",
    "char_count = userinput.count(userinput[0])\n",
    "print(userinput[::-1].replace(userinput[0],'$', char_count-1)[::-1])"
   ]
  },
  {
   "cell_type": "markdown",
   "metadata": {},
   "source": [
    "**Q2. Write a Python program to get the single string from the two given strings, and separated by the space and swap the first two characters of each string?**\n",
    "\n",
    "        Sample String : 'abc', 'xyz'.\n",
    "        Expected Result: 'xyc abz'"
   ]
  },
  {
   "cell_type": "code",
   "execution_count": 6,
   "metadata": {},
   "outputs": [
    {
     "name": "stdin",
     "output_type": "stream",
     "text": [
      "input two words separated by space: python program\n"
     ]
    },
    {
     "name": "stdout",
     "output_type": "stream",
     "text": [
      "prthon pyogram\n"
     ]
    }
   ],
   "source": [
    "userinput = input(\"input two words separated by space:\").lower().split()\n",
    "\n",
    "print(f\"{userinput[1][:2] + userinput[0][2:]} {userinput[0][:2] + userinput[1][2:]}\")"
   ]
  },
  {
   "cell_type": "markdown",
   "metadata": {},
   "source": [
    "**Q3. Write the Python program to add 'ing' at the end of the given string (length of the string should be at least 3). If given string already ends with 'ing,' then add 'ly' instead. If string length of the given string is less than 3, leave it unchanged?**\n",
    "\n",
    "        Sample string: ' abc '\n",
    "        Expected result: ' abcing '\n",
    "        Sample string: ' string '\n",
    "        Expected result: ' stringly '"
   ]
  },
  {
   "cell_type": "code",
   "execution_count": 17,
   "metadata": {},
   "outputs": [
    {
     "name": "stdin",
     "output_type": "stream",
     "text": [
      "Enter a string: stringing\n"
     ]
    },
    {
     "name": "stdout",
     "output_type": "stream",
     "text": [
      "stringingly\n"
     ]
    }
   ],
   "source": [
    "userinput = input(\"Enter a string:\").strip().lower()\n",
    "\n",
    "if len(userinput) >= 3:\n",
    "    if userinput[-3:] == 'ing':\n",
    "        userinput += 'ly'\n",
    "    else:\n",
    "        userinput += 'ing'"
   ]
  },
  {
   "cell_type": "markdown",
   "metadata": {},
   "source": [
    "**Q4. Write the Python program to find the first appearance of the substring 'not' and 'poor' from the given string, if 'not' follows the 'poor', replace the whole 'not'...' poor' substring with 'good'.Return the resulting\n",
    "string.**\n",
    "\n",
    "        Sample string: 'The lyrics are not that poor!'\n",
    "        'The lyrics are poor!'\n",
    "        Expected Result: 'The lyrics are good!'\n",
    "        'The lyrics are poor!'"
   ]
  },
  {
   "cell_type": "code",
   "execution_count": 33,
   "metadata": {},
   "outputs": [
    {
     "name": "stdin",
     "output_type": "stream",
     "text": [
      "Input a sentence:  The lyrics are not that poor! Awesome! Fantastic\n"
     ]
    },
    {
     "name": "stdout",
     "output_type": "stream",
     "text": [
      "the lyrics are good! awesome! fantastic\n"
     ]
    }
   ],
   "source": [
    "userinput = input(\"Input a sentence: \").lower()\n",
    "\n",
    "\n",
    "if userinput.index(\"not\") < userinput.index('poor'):\n",
    "    replace_string = userinput[userinput.index(\"not\"):userinput.index(\"poor\") + len(\"poor\")]\n",
    "    print(userinput.replace(replace_string, 'good'))\n",
    "else:\n",
    "    print(userinput)\n"
   ]
  },
  {
   "cell_type": "markdown",
   "metadata": {},
   "source": [
    "**Q5. Write the Python program to remove the characters which have odd index values of a given string.**"
   ]
  },
  {
   "cell_type": "code",
   "execution_count": 36,
   "metadata": {},
   "outputs": [
    {
     "name": "stdout",
     "output_type": "stream",
     "text": [
      "pho\n",
      "fnatc\n",
      "Lgsi\n",
      "Cnuinl\n",
      "snietl\n"
     ]
    }
   ],
   "source": [
    "# remove the characters from the given string at odd places\n",
    "\n",
    "def remove_odd_char(input_string):\n",
    "    print(*[input_string[i] for i in range(len(input_string)) if i%2 == 0],sep=\"\")\n",
    "    \n",
    "remove_odd_char(\"pyhton\")\n",
    "remove_odd_char(\"fantastic\")\n",
    "remove_odd_char(\"Logistic\")\n",
    "remove_odd_char(\"Convutional\")\n",
    "remove_odd_char(\"sentimental\")"
   ]
  },
  {
   "cell_type": "markdown",
   "metadata": {},
   "source": [
    "**Q6. Write the Python function to get a string made of 4 copies of the last two characters of the specified string (length must be at least 2).**\n",
    "\n",
    "        Sample function and result :\n",
    "        insert-end ('Python') -> abababab\n",
    "        insert-end('Exercises') -> jkjkjkj"
   ]
  },
  {
   "cell_type": "code",
   "execution_count": 45,
   "metadata": {},
   "outputs": [
    {
     "name": "stdout",
     "output_type": "stream",
     "text": [
      "onononon\n",
      "eseseses\n",
      "onononon\n",
      "The string length is less than 2\n"
     ]
    }
   ],
   "source": [
    "def repeat_4_times(input_string):\n",
    "    if len(input_string) >= 2:\n",
    "        return input_string[-2:]* 4\n",
    "    else:\n",
    "        return \"The string length is less than 2\"\n",
    "\n",
    "print(repeat_4_times(\"python\"))\n",
    "print(repeat_4_times(\"Exercises\"))\n",
    "print(repeat_4_times(\"function\"))\n",
    "print(repeat_4_times(\"a\"))"
   ]
  },
  {
   "cell_type": "markdown",
   "metadata": {},
   "source": [
    "**Q7. Write the python function to get a string made of its first three characters of a specified string. If the length of the string is less than 3 then return the original string.**\n",
    "\n",
    "        Sample function and result :\n",
    "        first-three('ipy') -> ipy\n",
    "        first-three('python') -> pyt"
   ]
  },
  {
   "cell_type": "code",
   "execution_count": 48,
   "metadata": {},
   "outputs": [
    {
     "name": "stdout",
     "output_type": "stream",
     "text": [
      "pyt\n",
      "Exe\n",
      "fun\n",
      "ans\n",
      "as\n"
     ]
    }
   ],
   "source": [
    "def substring(input_string):\n",
    "    if len(input_string) >=3:\n",
    "        return input_string[:3]\n",
    "    else:\n",
    "        return input_string\n",
    "\n",
    "print(substring(\"python\"))\n",
    "print(substring(\"Exercises\"))\n",
    "print(substring(\"function\"))\n",
    "print(substring(\"ans\"))\n",
    "print(substring(\"as\"))"
   ]
  },
  {
   "cell_type": "markdown",
   "metadata": {},
   "source": [
    "**Q8. Write the python program to print the following floating numbers up to 2 decimal places?**"
   ]
  },
  {
   "cell_type": "code",
   "execution_count": 1,
   "metadata": {},
   "outputs": [
    {
     "name": "stdout",
     "output_type": "stream",
     "text": [
      "2.11\n",
      "2.10\n",
      "2.00\n"
     ]
    }
   ],
   "source": [
    "def decimal2places(num):\n",
    "    print(f\"{num:0.2f}\")\n",
    "    \n",
    "decimal2places(2.11234)\n",
    "decimal2places(2.1)\n",
    "decimal2places(2)"
   ]
  },
  {
   "cell_type": "code",
   "execution_count": 12,
   "metadata": {},
   "outputs": [
    {
     "name": "stdout",
     "output_type": "stream",
     "text": [
      "33%\n",
      "40%\n"
     ]
    }
   ],
   "source": [
    "# 9. Write the Python program to format a number with a percentage?\n",
    "\n",
    "def decimal2places(num):\n",
    "    print(f\"{num:.0%}\")\n",
    "    \n",
    "\n",
    "decimal2places(1/3)\n",
    "decimal2places(22/55)"
   ]
  },
  {
   "cell_type": "code",
   "execution_count": 13,
   "metadata": {},
   "outputs": [
    {
     "name": "stdout",
     "output_type": "stream",
     "text": [
      "4\n",
      "4\n",
      "2\n"
     ]
    }
   ],
   "source": [
    "# 10. Write the Python program to count occurrences of a substring in a String?\n",
    "\n",
    "string1 = \"\"\"Lorem Ipsum is simply dummy text of the printing and typesetting industry. Lorem Ipsum has been the industry's standard dummy text ever since the 1500s, when an unknown printer took a galley of type and scrambled it to make a type specimen book. It has survived not only five centuries, but also the leap into electronic typesetting, remaining essentially unchanged. It was popularised in the 1960s with the release of Letraset sheets containing Lorem Ipsum passages, and more recently with desktop publishing software like Aldus PageMaker including versions of Lorem Ipsum.\"\"\"\n",
    "\n",
    "def countSubString(sub_str):\n",
    "    return string1.count(sub_str)\n",
    "\n",
    "print(countSubString(\"and\"))\n",
    "print(countSubString(\"Lorem\"))\n",
    "print(countSubString(\"text\"))\n",
    "    "
   ]
  },
  {
   "cell_type": "code",
   "execution_count": 15,
   "metadata": {},
   "outputs": [
    {
     "name": "stdout",
     "output_type": "stream",
     "text": [
      "h 2\n",
      "u 2\n",
      "r 2\n",
      "t 2\n",
      "e 3\n",
      "o 3\n"
     ]
    }
   ],
   "source": [
    "# 11. Write the Python program to count repeated characters in a string.\n",
    "string2 = \"thequickbrownjumpsoverthelazydog\"\n",
    "\n",
    "for i in set(string2):\n",
    "    if string2.count(i) > 1: \n",
    "        print(f\"{i} {string2.count(i)}\")\n"
   ]
  },
  {
   "cell_type": "code",
   "execution_count": 1,
   "metadata": {},
   "outputs": [
    {
     "name": "stdout",
     "output_type": "stream",
     "text": [
      "The area of the rectangle is 1256.66cm²\n",
      "The area of the rectangle is 1256.66cm³\n"
     ]
    }
   ],
   "source": [
    "# Q12. Write the Python program to print the square and cube symbol in the area of a rectangle and volume of a cylinder?\n",
    "\n",
    "\n",
    "print(f\"The area of the rectangle is {1256.6634242:.2f}cm\\u00b2\")\n",
    "print(f\"The area of the rectangle is {1256.6634242:.2f}cm\\u00b3\")"
   ]
  },
  {
   "cell_type": "code",
   "execution_count": 6,
   "metadata": {},
   "outputs": [
    {
     "name": "stdout",
     "output_type": "stream",
     "text": [
      "True\n"
     ]
    }
   ],
   "source": [
    "# Q13. Write the Python program to check if a string contains all letters of the alphabet?\n",
    "\n",
    "string3 = \"\"\"The quick brown fox jumps over the lazy dog\"\"\"\n",
    "\n",
    "low_alpha = [chr(i) for i in range(97,123)]\n",
    "result = [i for i in low_alpha if i in string3.lower()]\n",
    "\n",
    "print(True if len(result) == len(low_alpha) else False)\n"
   ]
  },
  {
   "cell_type": "code",
   "execution_count": 12,
   "metadata": {},
   "outputs": [
    {
     "name": "stdout",
     "output_type": "stream",
     "text": [
      "in 17\n"
     ]
    }
   ],
   "source": [
    "# Q14. Write the Python program to find the second most repeated word in a given string?\n",
    "\n",
    "\n",
    "def secondMostRepeatedWord(input_string):\n",
    "    word_count = dict()\n",
    "    \n",
    "    word_count = { word:input_string.count(word) for word in input_string.split() }\n",
    "    \n",
    "    word_count_sorted = sorted(word_count.items(), key=lambda kv: kv[1], reverse=True)\n",
    "\n",
    "    return (word_count_sorted[1])\n",
    "\n",
    "string4 = \"\"\"Lorem Ipsum is simply dummy text of the printing and typesetting industry. Lorem Ipsum has been the industry's standard dummy text ever since the 1500s, when an unknown printer took a galley of type and scrambled it to make a type specimen book. It has survived not only five centuries, but also the leap into electronic typesetting, remaining essentially unchanged. It was popularised in the 1960s with the release of Letraset sheets containing Lorem Ipsum passages, and more recently with desktop publishing software like Aldus PageMaker including versions of Lorem Ipsum.\"\"\"\n",
    "print(*secondMostRepeatedWord(string4))\n",
    "    "
   ]
  },
  {
   "cell_type": "code",
   "execution_count": null,
   "metadata": {},
   "outputs": [],
   "source": [
    "# Q15. Write the Python program to find the minimum window in the given string, which will contains all the characters of another given strings?\n",
    "\n",
    "\n"
   ]
  },
  {
   "cell_type": "code",
   "execution_count": null,
   "metadata": {},
   "outputs": [],
   "source": [
    "# Q16. Write the Python program to find smallest window that contains all characters of the given string?\n"
   ]
  },
  {
   "cell_type": "code",
   "execution_count": null,
   "metadata": {},
   "outputs": [],
   "source": [
    "# Q17. Write the Python program to count number of substrings from a given string of lowercase alphabets with exactly k distinct (given) characters?\n",
    "\n"
   ]
  },
  {
   "cell_type": "code",
   "execution_count": 13,
   "metadata": {},
   "outputs": [
    {
     "name": "stdout",
     "output_type": "stream",
     "text": [
      "2\n"
     ]
    }
   ],
   "source": [
    "# Q20. Write the Python program to count the number of strings where the string length is 2 or more, and first and last character are same from a given list of strings.\n",
    "\n",
    "def string_count(input_string):\n",
    "    return len([i for i in input_string.split(\" \") if len(i) > 1 and i[0] == i[-1]])\n",
    "\n",
    "print(string_count(\"abc xyz wxw 1331\"))"
   ]
  },
  {
   "cell_type": "code",
   "execution_count": 14,
   "metadata": {},
   "outputs": [
    {
     "name": "stdout",
     "output_type": "stream",
     "text": [
      "[(2, 1), (1, 2), (2, 3), (4, 4), (2, 5)]\n"
     ]
    }
   ],
   "source": [
    "# Q21. Write the Python program to get a list, sorted in increasing order by the last element in each tuple from the given list of non-empty tuples?\n",
    "\n",
    "def sorted_list(input_list):\n",
    "    return sorted(input_list, key=lambda k: k[1])\n",
    "\n",
    "print(sorted_list([(2, 5), (1, 2), (4, 4), (2, 3), (2, 1)]))"
   ]
  },
  {
   "cell_type": "code",
   "execution_count": 15,
   "metadata": {},
   "outputs": [
    {
     "name": "stdout",
     "output_type": "stream",
     "text": [
      "[1, 2, 3, 4, 11, 21, 22, 23, 57, 26]\n"
     ]
    }
   ],
   "source": [
    "# Q22. Write the Python program to remove duplicates from a list?\n",
    "\n",
    "def remove_duplicates(input_list):\n",
    "    return list(set(input_list))\n",
    "\n",
    "print(remove_duplicates([1,1,2,3,4,11,11,23,22,26,21,23,57,57]))"
   ]
  },
  {
   "cell_type": "code",
   "execution_count": 16,
   "metadata": {},
   "outputs": [
    {
     "name": "stdout",
     "output_type": "stream",
     "text": [
      "['Write', 'Python', 'program', 'words', 'longer', 'given', 'words']\n"
     ]
    }
   ],
   "source": [
    "# Q23. Write the Python program to find the list of words that are longer than n from a given list of words?\n",
    "\n",
    "def longer_n_words(input_string, str_len):\n",
    "    return [i for i in input_string.split() if len(i) >= str_len]\n",
    "\n",
    "print(longer_n_words(\"Write the Python program to find the list of words that are longer than n from a given list of words\", 5))"
   ]
  },
  {
   "cell_type": "code",
   "execution_count": 19,
   "metadata": {},
   "outputs": [
    {
     "name": "stdout",
     "output_type": "stream",
     "text": [
      "['Green', 'White', 'Black', 'indigo', 'grey']\n"
     ]
    }
   ],
   "source": [
    "# Q24. Write the Python program to print a specified list after removing the 0th, 4th, and 5th elements?\n",
    "\n",
    "def remove_elements(input_list):\n",
    "    \n",
    "    return input_list[1:4] + input_list[6:]\n",
    "\n",
    "\n",
    "print(remove_elements(['Red', 'Green', 'White', 'Black', 'Pink', 'Yellow', 'indigo', 'grey']))"
   ]
  },
  {
   "cell_type": "code",
   "execution_count": 22,
   "metadata": {},
   "outputs": [
    {
     "name": "stdout",
     "output_type": "stream",
     "text": [
      "[('Red', 'Green', 'Blue'), ('Red', 'Blue', 'Green'), ('Green', 'Red', 'Blue'), ('Green', 'Blue', 'Red'), ('Blue', 'Red', 'Green'), ('Blue', 'Green', 'Red')]\n"
     ]
    }
   ],
   "source": [
    "# Q25. Write the Python program to generate all permutations of a list in Python?\n",
    "\n",
    "import itertools\n",
    "print(list(itertools.permutations(['Red', 'Green', 'Blue'])))\n"
   ]
  },
  {
   "cell_type": "code",
   "execution_count": 41,
   "metadata": {},
   "outputs": [
    {
     "name": "stdout",
     "output_type": "stream",
     "text": [
      "[1, 2, 3, 4, 5, 6, 7, 8, 9, 10]\n"
     ]
    }
   ],
   "source": [
    "# Q26. Write the Python program to convert a pair of values into a sorted unique array?\n",
    "\n",
    "def sorted_unique_elem_array(input_array):\n",
    "    return sorted(set([j for i in input_array for j in i]))\n",
    "    \n",
    "    \n",
    "print(sorted_unique_elem_array([(1, 2), (3, 4), (1, 2), (5, 6), (7, 8), (1, 2), (3, 4), (3, 4), (7, 8), (9, 10) ]))\n",
    "    "
   ]
  },
  {
   "cell_type": "code",
   "execution_count": 43,
   "metadata": {},
   "outputs": [
    {
     "name": "stdout",
     "output_type": "stream",
     "text": [
      "L\n",
      "CDXCIX\n",
      "D\n",
      "LII\n",
      "MMMMM\n"
     ]
    }
   ],
   "source": [
    "# Q27. Write the Python class to convert an integer to a roman numeral?\n",
    "\n",
    "\n",
    "class Roman_Numbers:\n",
    "    def convert(self,num):\n",
    "        int_values = [1000, 900, 500, 400, 100, 90, 50, 40, 10, 9, 5, 4, 1]\n",
    "        roman_symbols = [\"M\", \"CM\", \"D\", \"CD\", \"C\", \"XC\", \"L\", \"XL\", \"X\", \"IX\", \"V\", \"IV\",\"I\"]\n",
    "        \n",
    "        roman_converted = \"\"\n",
    "        i = 0\n",
    "        while (num > 0):\n",
    "            for _ in range(num // int_values[i]):\n",
    "                roman_converted += roman_symbols[i]\n",
    "                num = num - int_values[i]\n",
    "            i += 1\n",
    "        return roman_converted\n",
    "\n",
    "roman = Roman_Numbers()\n",
    "print(roman.convert(50))\n",
    "print(roman.convert(499))\n",
    "print(roman.convert(500))\n",
    "print(roman.convert(52))\n",
    "print(roman.convert(5000))"
   ]
  },
  {
   "cell_type": "code",
   "execution_count": 47,
   "metadata": {},
   "outputs": [
    {
     "name": "stdout",
     "output_type": "stream",
     "text": [
      "4000\n",
      "1875\n"
     ]
    }
   ],
   "source": [
    "# Q28 Write the Python class to convert a Roman numeral to an integer?\n",
    "\n",
    "class Integer_to_Roman():\n",
    "    def convert(self, roman_string):\n",
    "        roman_numerals = {\"I\": 1, \"V\": 5, \"X\": 10, \"L\": 50, \"C\":100, \"D\": 500, \"M\": 1000}\n",
    "        integer = 0\n",
    "        for i in range(len(roman_string)-1):\n",
    "            if roman_numerals[roman_string[i]] < roman_numerals[roman_string[i + 1]]:\n",
    "                integer -= roman_numerals[roman_string[i]]\n",
    "            else:\n",
    "                integer -=- roman_numerals[roman_string[i]]\n",
    "        return integer + roman_numerals[roman_string[-1]]\n",
    "\n",
    "romint = Integer_to_Roman()\n",
    "print(romint.convert(\"MMMM\"))\n",
    "print(romint.convert(\"MDCCCLXXV\"))\n"
   ]
  },
  {
   "cell_type": "code",
   "execution_count": 48,
   "metadata": {},
   "outputs": [
    {
     "ename": "IndentationError",
     "evalue": "expected an indented block (<ipython-input-48-e956a91ca5a5>, line 22)",
     "output_type": "error",
     "traceback": [
      "\u001b[1;36m  File \u001b[1;32m\"<ipython-input-48-e956a91ca5a5>\"\u001b[1;36m, line \u001b[1;32m22\u001b[0m\n\u001b[1;33m    if x == '(':\u001b[0m\n\u001b[1;37m     ^\u001b[0m\n\u001b[1;31mIndentationError\u001b[0m\u001b[1;31m:\u001b[0m expected an indented block\n"
     ]
    }
   ],
   "source": [
    "# Q29. Write the Python class to find the validity of the string of the parentheses, \n",
    "# '(', ')', '{', '}', '[' and '] and the brackets must be closed in the correct order, \n",
    "# example - \"()\" and \"()[]{}\" are valid but \"[)\", \"({[)]\" and \"{{{\" are invalid.\n",
    "\n",
    "class syntax_checker:\n",
    "\n",
    "    opening = ['(', '[', '{']\n",
    "    closing = [')', ']', '}']\n",
    "\n",
    "    def check(self, string):\n",
    "        stack = []\n",
    "        for i in string:\n",
    "            if i in self.opening or i in self.closing:\n",
    "                stack.append(i)\n",
    "                open_in_stack = stack.count(i)\n",
    "                close_in_stack = stack.count(i)\n",
    "        balanced_pairs = 0\n",
    "        if open_in_stack != close_in_stack:\n",
    "            return False\n",
    "        try:\n",
    "            for x in stack:\n",
    "                if x == '(':\n",
    "                    closer = stack.index(')')\n",
    "                elif x == '[':\n",
    "                    closer = stack.index(']')\n",
    "                elif x == \"{\":\n",
    "                    closer = stack.index('}')\n",
    "                else:\n",
    "                    balanced_pairs += 1\n",
    "        except ValueError:\n",
    "            return False\n",
    "        if balanced_pairs == len(stack)/2:\n",
    "            return False\n",
    "\n",
    "syntax = syntax_checker()\n",
    "\n",
    "print(syntax.check(\"(){}[]\"))\n",
    "print(syntax.check(\"(())[{}]\"))\n",
    "print(syntax.check(\"(({This}))\"))\n",
    "print(syntax.check(\"(({This}(\"))\n",
    "print(syntax.check(\"](({This}(\"))\n"
   ]
  }
 ],
 "metadata": {
  "kernelspec": {
   "display_name": "Python 3",
   "language": "python",
   "name": "python3"
  },
  "language_info": {
   "codemirror_mode": {
    "name": "ipython",
    "version": 3
   },
   "file_extension": ".py",
   "mimetype": "text/x-python",
   "name": "python",
   "nbconvert_exporter": "python",
   "pygments_lexer": "ipython3",
   "version": "3.7.4"
  }
 },
 "nbformat": 4,
 "nbformat_minor": 4
}
