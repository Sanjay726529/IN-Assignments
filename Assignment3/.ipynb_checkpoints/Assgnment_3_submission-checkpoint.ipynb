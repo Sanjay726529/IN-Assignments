{
 "cells": [
  {
   "cell_type": "markdown",
   "metadata": {},
   "source": [
    "# Assignment-3\n",
    "---"
   ]
  },
  {
   "cell_type": "markdown",
   "metadata": {},
   "source": [
    "**1.1: Write a function to compute 5/0 and use try/except to catch the exceptions**"
   ]
  },
  {
   "cell_type": "code",
   "execution_count": 3,
   "metadata": {},
   "outputs": [
    {
     "name": "stdout",
     "output_type": "stream",
     "text": [
      "The division result of 5/2 is 2.5\n",
      "\n",
      "A number cannot be divided by a zero\n",
      "\n",
      "The division result of 10/5 is 2.0\n",
      "\n",
      "Exception occured: unsupported operand type(s) for /: 'str' and 'str'\n"
     ]
    }
   ],
   "source": [
    "def divide(num1,num2):\n",
    "    try:\n",
    "        print(f\"The division result of {num1}/{num2} is {num1/num2}\")\n",
    "    \n",
    "    except ZeroDivisionError:\n",
    "        print(\"A number cannot be divided by a zero\")\n",
    "    except Exception as e:\n",
    "        print(f\"Exception occured: {str(e)}\")\n",
    "\n",
    "#trial 1\n",
    "divide(5,2)\n",
    "print()\n",
    "\n",
    "# trial2\n",
    "divide(5,0)\n",
    "print()\n",
    "\n",
    "# trial3\n",
    "divide(10,5)\n",
    "print()\n",
    "\n",
    "# trial4\n",
    "divide('hello','world')"
   ]
  },
  {
   "cell_type": "markdown",
   "metadata": {},
   "source": [
    "**1.2: Implement a Python program to generate all sentences where subject is in [\"Americans\",\n",
    "\"Indians\"] and verb is in [\"Play\", \"watch\"] and the object is in [\"Baseball\",\"cricket\"].**\n",
    "\n",
    "***Hint: Subject,Verb and Object should be declared in the program as shown below.***\n",
    "\n",
    "* subjects=[\"Americans \",\"Indians\"]\n",
    "* verbs=[\"play\",\"watch\"]\n",
    "* objects=[\"Baseball\",\"Cricket\"]\n",
    "\n",
    "Output should come as below:\n",
    "\n",
    "        Americans play Baseball.\n",
    "        Americans play Cricket.\n",
    "        Americans watch Baseball.\n",
    "        Americans watch Cricket.\n",
    "        Indians play Baseball.\n",
    "        Indians play Cricket.\n",
    "        Indians watch Baseball.\n",
    "        Indians watch Cricket."
   ]
  },
  {
   "cell_type": "code",
   "execution_count": 8,
   "metadata": {},
   "outputs": [
    {
     "name": "stdout",
     "output_type": "stream",
     "text": [
      "Americans play Baseball\n",
      "Americans play Cricket\n",
      "Americans watch Baseball\n",
      "Americans watch Cricket\n",
      "Indians play Baseball\n",
      "Indians play Cricket\n",
      "Indians watch Baseball\n",
      "Indians watch Cricket\n"
     ]
    }
   ],
   "source": [
    "subjects = ['Americans', 'Indians']\n",
    "verbs = ['play', 'watch']\n",
    "objects = ['Baseball','Cricket']\n",
    "\n",
    "print(*[f\"{sub} {ver} {obj}\" for sub in subjects for ver in verbs for obj in objects], sep='\\n')"
   ]
  },
  {
   "cell_type": "markdown",
   "metadata": {},
   "source": [
    "**2.1: Write a function so that the columns of the output matrix are powers of the input vector.**\n",
    "\n",
    "*The order of the powers is determined by the increasing boolean argument. Specifically, when\n",
    "increasing is False, the i-th output column is the input vector raised element-wise to the power\n",
    "of N - i - 1.*\n",
    "\n",
    "\n",
    "***HINT: Such a matrix with a geometric progression in each row is named for AlexandreTheophile Vandermonde.***\n"
   ]
  },
  {
   "cell_type": "code",
   "execution_count": 27,
   "metadata": {},
   "outputs": [
    {
     "name": "stdout",
     "output_type": "stream",
     "text": [
      "input_array:  [4 1 6 8 3]\n",
      "\n",
      "vandermonde matrix: \n",
      "[[ 256   64   16    4    1]\n",
      " [   1    1    1    1    1]\n",
      " [1296  216   36    6    1]\n",
      " [4096  512   64    8    1]\n",
      " [  81   27    9    3    1]]\n",
      "\n",
      "input_array:  [6 5 4 5 3 1 1 5]\n",
      "\n",
      "vandermonde matrix: \n",
      "[[36  6  1]\n",
      " [25  5  1]\n",
      " [16  4  1]\n",
      " [25  5  1]\n",
      " [ 9  3  1]\n",
      " [ 1  1  1]\n",
      " [ 1  1  1]\n",
      " [25  5  1]]\n",
      "\n",
      "input_array:  [1 2 3 4 5]\n",
      "\n",
      "vandermonde matrix: \n",
      "[[  1   1   1   1   1]\n",
      " [  1   2   4   8  16]\n",
      " [  1   3   9  27  81]\n",
      " [  1   4  16  64 256]\n",
      " [  1   5  25 125 625]]\n"
     ]
    }
   ],
   "source": [
    "import numpy as np\n",
    "\n",
    "def vander(input_array, N=None, increasing=False):\n",
    "    if N == None:\n",
    "        N = len(input_array)\n",
    "    van_mat = np.array([input_array**(N-1-i) for i in range(N)])\n",
    "    if increasing:\n",
    "        return van_mat.T[:,::-1]\n",
    "    return van_mat.T\n",
    "\n",
    "# test 1:\n",
    "array1 = np.random.randint(1,9,5)\n",
    "print(\"input_array: \", array1)\n",
    "print()\n",
    "print(\"vandermonde matrix: \", vander(array1), sep=\"\\n\")\n",
    "print()\n",
    "\n",
    "# test 2:\n",
    "array1 = np.random.randint(1,9,8)\n",
    "print(\"input_array: \", array1)\n",
    "print()\n",
    "N=3\n",
    "print(\"vandermonde matrix: \", vander(array1, N), sep=\"\\n\")\n",
    "print()\n",
    "\n",
    "# test 3:\n",
    "array1 = np.array([1,2,3,4,5])\n",
    "print(\"input_array: \", array1)\n",
    "print()\n",
    "print(\"vandermonde matrix: \", vander(array1, increasing=True), sep=\"\\n\")"
   ]
  }
 ],
 "metadata": {
  "kernelspec": {
   "display_name": "Python 3",
   "language": "python",
   "name": "python3"
  },
  "language_info": {
   "codemirror_mode": {
    "name": "ipython",
    "version": 3
   },
   "file_extension": ".py",
   "mimetype": "text/x-python",
   "name": "python",
   "nbconvert_exporter": "python",
   "pygments_lexer": "ipython3",
   "version": "3.7.4"
  }
 },
 "nbformat": 4,
 "nbformat_minor": 4
}
